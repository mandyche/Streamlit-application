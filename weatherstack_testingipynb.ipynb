{
  "nbformat": 4,
  "nbformat_minor": 0,
  "metadata": {
    "colab": {
      "provenance": [],
      "authorship_tag": "ABX9TyNea1lCKcwr4SEjx7q6OIaI",
      "include_colab_link": true
    },
    "kernelspec": {
      "name": "python3",
      "display_name": "Python 3"
    },
    "language_info": {
      "name": "python"
    }
  },
  "cells": [
    {
      "cell_type": "markdown",
      "metadata": {
        "id": "view-in-github",
        "colab_type": "text"
      },
      "source": [
        "<a href=\"https://colab.research.google.com/github/mandyche/Streamlit-application/blob/main/weatherstack_testingipynb.ipynb\" target=\"_parent\"><img src=\"https://colab.research.google.com/assets/colab-badge.svg\" alt=\"Open In Colab\"/></a>"
      ]
    },
    {
      "cell_type": "code",
      "source": [
        "# Define WeatherData class\n",
        "class WeatherData:\n",
        "    def __init__(self, date, location, temperature, weather_conditions):\n",
        "        self.date = date\n",
        "        self.location = location\n",
        "        self.temperature = temperature\n",
        "        self.weather_conditions = weather_conditions\n",
        "\n",
        "def fetch_weather_data(states):\n",
        "    api_key = 'e83ad62e4bfa0d0d9fc8161aa1269d7b'\n",
        "    url = f'http://api.weatherstack.com/current?access_key={api_key}&query={states}' #change whatever location preferred: can be California, New York, Arizona, etc.\n",
        "\n",
        "    response = requests.get(url)\n",
        "    if response.status_code != 200:\n",
        "        print(\"Failed to retrieve weather data\")\n",
        "        return None\n",
        "\n",
        "    data = response.json()\n",
        "    current_data = data['current']\n",
        "\n",
        "    # Check if 'temperature' and 'weather_descriptions' keys exist in the current_data\n",
        "    if 'temperature' not in current_data or 'weather_descriptions' not in current_data:\n",
        "        print(\"Error: 'temperature' or 'weather_descriptions' keys not found in current_data.\")\n",
        "        print(\"Current data:\", current_data)\n",
        "        return None\n",
        "\n",
        "    weather_data_dict = {\n",
        "        'date': input('Enter today date in a formate of YYYY-MM-DD:'),\n",
        "        'location': states,\n",
        "        'temperature': current_data['temperature'],\n",
        "        'weather_conditions': current_data['weather_descriptions'][0]  # Taking the first description\n",
        "    }\n",
        "\n",
        "    return weather_data_dict\n",
        "\n",
        "# Fetch weather data\n",
        "weather_data_dict = fetch_weather_data(input('Enter a state you would like to observe the weather:')) #Can be changed to any other states in USA\n",
        "\n",
        "# Create WeatherData instance\n",
        "weather_obj = WeatherData(**weather_data_dict)\n",
        "\n",
        "# Create DataFrame\n",
        "weather_df = pd.DataFrame([weather_data_dict])\n",
        "\n",
        "print(\"Weather Data:\")\n",
        "print(weather_df)\n",
        "\n",
        "weather_df.to_csv('weather_data.csv', index=False)"
      ],
      "metadata": {
        "colab": {
          "base_uri": "https://localhost:8080/"
        },
        "id": "pYwwNFCm0tkw",
        "outputId": "9abbed98-b7b9-4ee8-9480-256ff6a69d8d"
      },
      "execution_count": 34,
      "outputs": [
        {
          "output_type": "stream",
          "name": "stdout",
          "text": [
            "Enter a state you would like to observe the weather:Arizona\n",
            "Enter today date in a formate of YYYY-MM-DD:2024-04-14\n",
            "Weather Data:\n",
            "         date location  temperature weather_conditions\n",
            "0  2024-04-14  Arizona           30      Partly cloudy\n"
          ]
        }
      ]
    }
  ]
}